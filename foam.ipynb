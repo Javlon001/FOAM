{
 "cells": [
  {
   "cell_type": "markdown",
   "metadata": {},
   "source": [
    "# Mean-Variance Model"
   ]
  },
  {
   "cell_type": "markdown",
   "metadata": {},
   "source": [
    "## Exercise 2. \n",
    "### Task 0: Cleaning Data and Importing Libraries: "
   ]
  },
  {
   "cell_type": "code",
   "execution_count": 4,
   "metadata": {},
   "outputs": [],
   "source": [
    "# pip install openpyxl  #install this library to open excel file"
   ]
  },
  {
   "cell_type": "code",
   "execution_count": 5,
   "metadata": {},
   "outputs": [],
   "source": [
    "# pip install gurobipy #install this library to optimize the problems"
   ]
  },
  {
   "cell_type": "code",
   "execution_count": 27,
   "metadata": {},
   "outputs": [],
   "source": [
    "#import required libraries: \n",
    "import gurobipy as gb\n",
    "import pandas as pd\n",
    "import numpy as np\n",
    "import seaborn as sns\n",
    "import matplotlib.pyplot as plt"
   ]
  },
  {
   "cell_type": "code",
   "execution_count": 28,
   "metadata": {},
   "outputs": [
    {
     "data": {
      "text/html": [
       "<div>\n",
       "<style scoped>\n",
       "    .dataframe tbody tr th:only-of-type {\n",
       "        vertical-align: middle;\n",
       "    }\n",
       "\n",
       "    .dataframe tbody tr th {\n",
       "        vertical-align: top;\n",
       "    }\n",
       "\n",
       "    .dataframe thead th {\n",
       "        text-align: right;\n",
       "    }\n",
       "</style>\n",
       "<table border=\"1\" class=\"dataframe\">\n",
       "  <thead>\n",
       "    <tr style=\"text-align: right;\">\n",
       "      <th></th>\n",
       "      <th>A1</th>\n",
       "      <th>A2</th>\n",
       "      <th>A3</th>\n",
       "      <th>A4</th>\n",
       "      <th>A5</th>\n",
       "      <th>A6</th>\n",
       "      <th>A7</th>\n",
       "      <th>A8</th>\n",
       "      <th>A9</th>\n",
       "      <th>A10</th>\n",
       "      <th>A11</th>\n",
       "      <th>A12</th>\n",
       "      <th>A13</th>\n",
       "      <th>A14</th>\n",
       "      <th>A15</th>\n",
       "      <th>A16</th>\n",
       "      <th>A17</th>\n",
       "      <th>A18</th>\n",
       "      <th>A19</th>\n",
       "      <th>A20</th>\n",
       "    </tr>\n",
       "    <tr>\n",
       "      <th>Dates</th>\n",
       "      <th></th>\n",
       "      <th></th>\n",
       "      <th></th>\n",
       "      <th></th>\n",
       "      <th></th>\n",
       "      <th></th>\n",
       "      <th></th>\n",
       "      <th></th>\n",
       "      <th></th>\n",
       "      <th></th>\n",
       "      <th></th>\n",
       "      <th></th>\n",
       "      <th></th>\n",
       "      <th></th>\n",
       "      <th></th>\n",
       "      <th></th>\n",
       "      <th></th>\n",
       "      <th></th>\n",
       "      <th></th>\n",
       "      <th></th>\n",
       "    </tr>\n",
       "  </thead>\n",
       "  <tbody>\n",
       "    <tr>\n",
       "      <th>2004-01-01</th>\n",
       "      <td>0.056941</td>\n",
       "      <td>0.055085</td>\n",
       "      <td>-0.005061</td>\n",
       "      <td>-0.001376</td>\n",
       "      <td>0.038502</td>\n",
       "      <td>0.004092</td>\n",
       "      <td>-0.003996</td>\n",
       "      <td>-0.023231</td>\n",
       "      <td>0.036722</td>\n",
       "      <td>-0.018517</td>\n",
       "      <td>0.023003</td>\n",
       "      <td>0.008654</td>\n",
       "      <td>-0.025495</td>\n",
       "      <td>-0.028095</td>\n",
       "      <td>0.134228</td>\n",
       "      <td>-0.035847</td>\n",
       "      <td>0.039152</td>\n",
       "      <td>-0.031417</td>\n",
       "      <td>0.027356</td>\n",
       "      <td>-0.027555</td>\n",
       "    </tr>\n",
       "    <tr>\n",
       "      <th>2004-02-01</th>\n",
       "      <td>-0.025385</td>\n",
       "      <td>-0.097992</td>\n",
       "      <td>-0.083576</td>\n",
       "      <td>-0.046853</td>\n",
       "      <td>-0.041082</td>\n",
       "      <td>0.020377</td>\n",
       "      <td>-0.064916</td>\n",
       "      <td>-0.025405</td>\n",
       "      <td>-0.035421</td>\n",
       "      <td>-0.140655</td>\n",
       "      <td>-0.066209</td>\n",
       "      <td>-0.094376</td>\n",
       "      <td>-0.037007</td>\n",
       "      <td>-0.009937</td>\n",
       "      <td>0.064431</td>\n",
       "      <td>-0.106229</td>\n",
       "      <td>-0.009411</td>\n",
       "      <td>-0.077847</td>\n",
       "      <td>0.004931</td>\n",
       "      <td>-0.083825</td>\n",
       "    </tr>\n",
       "  </tbody>\n",
       "</table>\n",
       "</div>"
      ],
      "text/plain": [
       "                  A1        A2        A3        A4        A5        A6  \\\n",
       "Dates                                                                    \n",
       "2004-01-01  0.056941  0.055085 -0.005061 -0.001376  0.038502  0.004092   \n",
       "2004-02-01 -0.025385 -0.097992 -0.083576 -0.046853 -0.041082  0.020377   \n",
       "\n",
       "                  A7        A8        A9       A10       A11       A12  \\\n",
       "Dates                                                                    \n",
       "2004-01-01 -0.003996 -0.023231  0.036722 -0.018517  0.023003  0.008654   \n",
       "2004-02-01 -0.064916 -0.025405 -0.035421 -0.140655 -0.066209 -0.094376   \n",
       "\n",
       "                 A13       A14       A15       A16       A17       A18  \\\n",
       "Dates                                                                    \n",
       "2004-01-01 -0.025495 -0.028095  0.134228 -0.035847  0.039152 -0.031417   \n",
       "2004-02-01 -0.037007 -0.009937  0.064431 -0.106229 -0.009411 -0.077847   \n",
       "\n",
       "                 A19       A20  \n",
       "Dates                           \n",
       "2004-01-01  0.027356 -0.027555  \n",
       "2004-02-01  0.004931 -0.083825  "
      ]
     },
     "execution_count": 28,
     "metadata": {},
     "output_type": "execute_result"
    }
   ],
   "source": [
    "#load the data\n",
    "df=pd.read_excel(\"/workspaces/FOAM/data/data.xlsx\", sheet_name=\"Returns S&P Mib 30 \", index_col=0, parse_dates=True)\n",
    "df.head(2)"
   ]
  },
  {
   "cell_type": "code",
   "execution_count": 29,
   "metadata": {},
   "outputs": [
    {
     "data": {
      "text/html": [
       "<div>\n",
       "<style scoped>\n",
       "    .dataframe tbody tr th:only-of-type {\n",
       "        vertical-align: middle;\n",
       "    }\n",
       "\n",
       "    .dataframe tbody tr th {\n",
       "        vertical-align: top;\n",
       "    }\n",
       "\n",
       "    .dataframe thead th {\n",
       "        text-align: right;\n",
       "    }\n",
       "</style>\n",
       "<table border=\"1\" class=\"dataframe\">\n",
       "  <thead>\n",
       "    <tr style=\"text-align: right;\">\n",
       "      <th></th>\n",
       "      <th>A1</th>\n",
       "      <th>A2</th>\n",
       "      <th>A3</th>\n",
       "      <th>A4</th>\n",
       "      <th>A5</th>\n",
       "      <th>A6</th>\n",
       "      <th>A7</th>\n",
       "      <th>A8</th>\n",
       "      <th>A9</th>\n",
       "      <th>A10</th>\n",
       "      <th>A11</th>\n",
       "      <th>A12</th>\n",
       "      <th>A13</th>\n",
       "      <th>A14</th>\n",
       "      <th>A15</th>\n",
       "      <th>A16</th>\n",
       "      <th>A17</th>\n",
       "      <th>A18</th>\n",
       "      <th>A19</th>\n",
       "      <th>A20</th>\n",
       "    </tr>\n",
       "  </thead>\n",
       "  <tbody>\n",
       "    <tr>\n",
       "      <th>Jan-2004</th>\n",
       "      <td>0.056941</td>\n",
       "      <td>0.055085</td>\n",
       "      <td>-0.005061</td>\n",
       "      <td>-0.001376</td>\n",
       "      <td>0.038502</td>\n",
       "      <td>0.004092</td>\n",
       "      <td>-0.003996</td>\n",
       "      <td>-0.023231</td>\n",
       "      <td>0.036722</td>\n",
       "      <td>-0.018517</td>\n",
       "      <td>0.023003</td>\n",
       "      <td>0.008654</td>\n",
       "      <td>-0.025495</td>\n",
       "      <td>-0.028095</td>\n",
       "      <td>0.134228</td>\n",
       "      <td>-0.035847</td>\n",
       "      <td>0.039152</td>\n",
       "      <td>-0.031417</td>\n",
       "      <td>0.027356</td>\n",
       "      <td>-0.027555</td>\n",
       "    </tr>\n",
       "    <tr>\n",
       "      <th>Feb-2004</th>\n",
       "      <td>-0.025385</td>\n",
       "      <td>-0.097992</td>\n",
       "      <td>-0.083576</td>\n",
       "      <td>-0.046853</td>\n",
       "      <td>-0.041082</td>\n",
       "      <td>0.020377</td>\n",
       "      <td>-0.064916</td>\n",
       "      <td>-0.025405</td>\n",
       "      <td>-0.035421</td>\n",
       "      <td>-0.140655</td>\n",
       "      <td>-0.066209</td>\n",
       "      <td>-0.094376</td>\n",
       "      <td>-0.037007</td>\n",
       "      <td>-0.009937</td>\n",
       "      <td>0.064431</td>\n",
       "      <td>-0.106229</td>\n",
       "      <td>-0.009411</td>\n",
       "      <td>-0.077847</td>\n",
       "      <td>0.004931</td>\n",
       "      <td>-0.083825</td>\n",
       "    </tr>\n",
       "  </tbody>\n",
       "</table>\n",
       "</div>"
      ],
      "text/plain": [
       "                A1        A2        A3        A4        A5        A6  \\\n",
       "Jan-2004  0.056941  0.055085 -0.005061 -0.001376  0.038502  0.004092   \n",
       "Feb-2004 -0.025385 -0.097992 -0.083576 -0.046853 -0.041082  0.020377   \n",
       "\n",
       "                A7        A8        A9       A10       A11       A12  \\\n",
       "Jan-2004 -0.003996 -0.023231  0.036722 -0.018517  0.023003  0.008654   \n",
       "Feb-2004 -0.064916 -0.025405 -0.035421 -0.140655 -0.066209 -0.094376   \n",
       "\n",
       "               A13       A14       A15       A16       A17       A18  \\\n",
       "Jan-2004 -0.025495 -0.028095  0.134228 -0.035847  0.039152 -0.031417   \n",
       "Feb-2004 -0.037007 -0.009937  0.064431 -0.106229 -0.009411 -0.077847   \n",
       "\n",
       "               A19       A20  \n",
       "Jan-2004  0.027356 -0.027555  \n",
       "Feb-2004  0.004931 -0.083825  "
      ]
     },
     "execution_count": 29,
     "metadata": {},
     "output_type": "execute_result"
    }
   ],
   "source": [
    "# we can drop the index name, and change the date format appropriately\n",
    "df.index.name=None\n",
    "df.index = df.index.strftime('%b-%Y')\n",
    "df.head(2)"
   ]
  },
  {
   "cell_type": "code",
   "execution_count": 30,
   "metadata": {},
   "outputs": [
    {
     "data": {
      "text/html": [
       "<div>\n",
       "<style scoped>\n",
       "    .dataframe tbody tr th:only-of-type {\n",
       "        vertical-align: middle;\n",
       "    }\n",
       "\n",
       "    .dataframe tbody tr th {\n",
       "        vertical-align: top;\n",
       "    }\n",
       "\n",
       "    .dataframe thead th {\n",
       "        text-align: right;\n",
       "    }\n",
       "</style>\n",
       "<table border=\"1\" class=\"dataframe\">\n",
       "  <thead>\n",
       "    <tr style=\"text-align: right;\">\n",
       "      <th></th>\n",
       "      <th>AL</th>\n",
       "      <th>AGL</th>\n",
       "      <th>AUTO</th>\n",
       "      <th>NTV</th>\n",
       "      <th>BFI</th>\n",
       "      <th>BIN</th>\n",
       "      <th>BPM</th>\n",
       "      <th>BPVN</th>\n",
       "      <th>BNL</th>\n",
       "      <th>BPU</th>\n",
       "      <th>BUL</th>\n",
       "      <th>CAP</th>\n",
       "      <th>EDN</th>\n",
       "      <th>ENEL</th>\n",
       "      <th>ENI</th>\n",
       "      <th>FWB</th>\n",
       "      <th>F</th>\n",
       "      <th>FNC</th>\n",
       "      <th>G</th>\n",
       "      <th>ES</th>\n",
       "    </tr>\n",
       "  </thead>\n",
       "  <tbody>\n",
       "    <tr>\n",
       "      <th>Jan-2004</th>\n",
       "      <td>0.056941</td>\n",
       "      <td>0.055085</td>\n",
       "      <td>-0.005061</td>\n",
       "      <td>-0.001376</td>\n",
       "      <td>0.038502</td>\n",
       "      <td>0.004092</td>\n",
       "      <td>-0.003996</td>\n",
       "      <td>-0.023231</td>\n",
       "      <td>0.036722</td>\n",
       "      <td>-0.018517</td>\n",
       "      <td>0.023003</td>\n",
       "      <td>0.008654</td>\n",
       "      <td>-0.025495</td>\n",
       "      <td>-0.028095</td>\n",
       "      <td>0.134228</td>\n",
       "      <td>-0.035847</td>\n",
       "      <td>0.039152</td>\n",
       "      <td>-0.031417</td>\n",
       "      <td>0.027356</td>\n",
       "      <td>-0.027555</td>\n",
       "    </tr>\n",
       "    <tr>\n",
       "      <th>Feb-2004</th>\n",
       "      <td>-0.025385</td>\n",
       "      <td>-0.097992</td>\n",
       "      <td>-0.083576</td>\n",
       "      <td>-0.046853</td>\n",
       "      <td>-0.041082</td>\n",
       "      <td>0.020377</td>\n",
       "      <td>-0.064916</td>\n",
       "      <td>-0.025405</td>\n",
       "      <td>-0.035421</td>\n",
       "      <td>-0.140655</td>\n",
       "      <td>-0.066209</td>\n",
       "      <td>-0.094376</td>\n",
       "      <td>-0.037007</td>\n",
       "      <td>-0.009937</td>\n",
       "      <td>0.064431</td>\n",
       "      <td>-0.106229</td>\n",
       "      <td>-0.009411</td>\n",
       "      <td>-0.077847</td>\n",
       "      <td>0.004931</td>\n",
       "      <td>-0.083825</td>\n",
       "    </tr>\n",
       "  </tbody>\n",
       "</table>\n",
       "</div>"
      ],
      "text/plain": [
       "                AL       AGL      AUTO       NTV       BFI       BIN  \\\n",
       "Jan-2004  0.056941  0.055085 -0.005061 -0.001376  0.038502  0.004092   \n",
       "Feb-2004 -0.025385 -0.097992 -0.083576 -0.046853 -0.041082  0.020377   \n",
       "\n",
       "               BPM      BPVN       BNL       BPU       BUL       CAP  \\\n",
       "Jan-2004 -0.003996 -0.023231  0.036722 -0.018517  0.023003  0.008654   \n",
       "Feb-2004 -0.064916 -0.025405 -0.035421 -0.140655 -0.066209 -0.094376   \n",
       "\n",
       "               EDN      ENEL       ENI       FWB         F       FNC  \\\n",
       "Jan-2004 -0.025495 -0.028095  0.134228 -0.035847  0.039152 -0.031417   \n",
       "Feb-2004 -0.037007 -0.009937  0.064431 -0.106229 -0.009411 -0.077847   \n",
       "\n",
       "                 G        ES  \n",
       "Jan-2004  0.027356 -0.027555  \n",
       "Feb-2004  0.004931 -0.083825  "
      ]
     },
     "execution_count": 30,
     "metadata": {},
     "output_type": "execute_result"
    }
   ],
   "source": [
    "# since the stocks are given in the range from A1 to A20, we prepared dictionary to replace them with their respective names\n",
    "stocks = [\n",
    "    \"AL\", \"AGL\", \"AUTO\", \"NTV\", \"BFI\", \"BIN\", \"BPM\", \"BPVN\", \"BNL\", \"BPU\", \"BUL\", \"CAP\", \n",
    "    \"EDN\", \"ENEL\", \"ENI\", \"FWB\", \"F\", \"FNC\", \"G\", \"ES\"\n",
    "]\n",
    "\n",
    "stock_dict = {f\"A{i+1}\": stock for i, stock in enumerate(stocks)}\n",
    "\n",
    "# now we can replace them\n",
    "df = df.rename(columns=stock_dict)\n",
    "df.head(2)"
   ]
  },
  {
   "cell_type": "markdown",
   "metadata": {},
   "source": [
    "## Exercise 2.1 expected_return and variance and covariance matrix"
   ]
  },
  {
   "cell_type": "code",
   "execution_count": 31,
   "metadata": {},
   "outputs": [
    {
     "data": {
      "text/plain": [
       "AL     0.001935\n",
       "AGL    0.028860\n",
       "dtype: float64"
      ]
     },
     "execution_count": 31,
     "metadata": {},
     "output_type": "execute_result"
    }
   ],
   "source": [
    "#expected returns are found as follows, since the data frame is already about the returns we can just take the mean for an asset for the whole period. \n",
    "expected_returns = df[stocks].mean()\n",
    "expected_returns.head(2)"
   ]
  },
  {
   "cell_type": "code",
   "execution_count": 32,
   "metadata": {},
   "outputs": [
    {
     "data": {
      "text/html": [
       "<div>\n",
       "<style scoped>\n",
       "    .dataframe tbody tr th:only-of-type {\n",
       "        vertical-align: middle;\n",
       "    }\n",
       "\n",
       "    .dataframe tbody tr th {\n",
       "        vertical-align: top;\n",
       "    }\n",
       "\n",
       "    .dataframe thead th {\n",
       "        text-align: right;\n",
       "    }\n",
       "</style>\n",
       "<table border=\"1\" class=\"dataframe\">\n",
       "  <thead>\n",
       "    <tr style=\"text-align: right;\">\n",
       "      <th></th>\n",
       "      <th>AL</th>\n",
       "      <th>AGL</th>\n",
       "      <th>AUTO</th>\n",
       "      <th>NTV</th>\n",
       "      <th>BFI</th>\n",
       "      <th>BIN</th>\n",
       "      <th>BPM</th>\n",
       "      <th>BPVN</th>\n",
       "      <th>BNL</th>\n",
       "      <th>BPU</th>\n",
       "      <th>BUL</th>\n",
       "      <th>CAP</th>\n",
       "      <th>EDN</th>\n",
       "      <th>ENEL</th>\n",
       "      <th>ENI</th>\n",
       "      <th>FWB</th>\n",
       "      <th>F</th>\n",
       "      <th>FNC</th>\n",
       "      <th>G</th>\n",
       "      <th>ES</th>\n",
       "    </tr>\n",
       "  </thead>\n",
       "  <tbody>\n",
       "    <tr>\n",
       "      <th>AL</th>\n",
       "      <td>0.005113</td>\n",
       "      <td>0.000429</td>\n",
       "      <td>0.001942</td>\n",
       "      <td>0.000599</td>\n",
       "      <td>0.000211</td>\n",
       "      <td>0.000246</td>\n",
       "      <td>0.000022</td>\n",
       "      <td>-0.000506</td>\n",
       "      <td>0.000008</td>\n",
       "      <td>0.001111</td>\n",
       "      <td>0.000096</td>\n",
       "      <td>0.001030</td>\n",
       "      <td>0.001152</td>\n",
       "      <td>0.000063</td>\n",
       "      <td>0.000536</td>\n",
       "      <td>0.001054</td>\n",
       "      <td>0.000214</td>\n",
       "      <td>0.003113</td>\n",
       "      <td>0.001102</td>\n",
       "      <td>0.000578</td>\n",
       "    </tr>\n",
       "    <tr>\n",
       "      <th>AGL</th>\n",
       "      <td>0.000429</td>\n",
       "      <td>0.006196</td>\n",
       "      <td>0.002060</td>\n",
       "      <td>0.001682</td>\n",
       "      <td>0.001280</td>\n",
       "      <td>0.001742</td>\n",
       "      <td>0.002319</td>\n",
       "      <td>0.001718</td>\n",
       "      <td>0.002281</td>\n",
       "      <td>0.002289</td>\n",
       "      <td>0.001349</td>\n",
       "      <td>0.001539</td>\n",
       "      <td>0.001463</td>\n",
       "      <td>0.001753</td>\n",
       "      <td>0.001833</td>\n",
       "      <td>0.001800</td>\n",
       "      <td>0.001016</td>\n",
       "      <td>0.002068</td>\n",
       "      <td>0.001396</td>\n",
       "      <td>0.000841</td>\n",
       "    </tr>\n",
       "  </tbody>\n",
       "</table>\n",
       "</div>"
      ],
      "text/plain": [
       "           AL       AGL      AUTO       NTV       BFI       BIN       BPM  \\\n",
       "AL   0.005113  0.000429  0.001942  0.000599  0.000211  0.000246  0.000022   \n",
       "AGL  0.000429  0.006196  0.002060  0.001682  0.001280  0.001742  0.002319   \n",
       "\n",
       "         BPVN       BNL       BPU       BUL       CAP       EDN      ENEL  \\\n",
       "AL  -0.000506  0.000008  0.001111  0.000096  0.001030  0.001152  0.000063   \n",
       "AGL  0.001718  0.002281  0.002289  0.001349  0.001539  0.001463  0.001753   \n",
       "\n",
       "          ENI       FWB         F       FNC         G        ES  \n",
       "AL   0.000536  0.001054  0.000214  0.003113  0.001102  0.000578  \n",
       "AGL  0.001833  0.001800  0.001016  0.002068  0.001396  0.000841  "
      ]
     },
     "execution_count": 32,
     "metadata": {},
     "output_type": "execute_result"
    }
   ],
   "source": [
    "# Compute variance and covariance matrix\n",
    "covariance_matrix = df[stocks].cov()\n",
    "covariance_matrix.head(2)"
   ]
  },
  {
   "cell_type": "markdown",
   "metadata": {},
   "source": [
    "### Model Implementation"
   ]
  },
  {
   "cell_type": "code",
   "execution_count": 33,
   "metadata": {},
   "outputs": [],
   "source": [
    "# Create model\n",
    "m = gb.Model()"
   ]
  },
  {
   "cell_type": "code",
   "execution_count": 34,
   "metadata": {},
   "outputs": [
    {
     "data": {
      "text/plain": [
       "AL      <gurobi.Var X[AL]>\n",
       "AGL    <gurobi.Var X[AGL]>\n",
       "dtype: object"
      ]
     },
     "execution_count": 34,
     "metadata": {},
     "output_type": "execute_result"
    }
   ],
   "source": [
    "# Add a variable for each stock\n",
    "x = pd.Series(m.addVars(stocks, name='X'), index=stocks)\n",
    "m.update()\n",
    "x.head(2)"
   ]
  },
  {
   "cell_type": "code",
   "execution_count": 36,
   "metadata": {},
   "outputs": [],
   "source": [
    "# Compute portfolio variance and return\n",
    "portfolio_variance = covariance_matrix.dot(x).dot(x)\n",
    "portfolio_return = expected_returns.dot(x)"
   ]
  },
  {
   "cell_type": "code",
   "execution_count": 38,
   "metadata": {},
   "outputs": [],
   "source": [
    "# Add objective function to model\n",
    "m.setObjective(expected_returns, sense=gb.GRB.MAXIMIZE)"
   ]
  },
  {
   "cell_type": "code",
   "execution_count": 39,
   "metadata": {},
   "outputs": [],
   "source": [
    "# Add budget constraint\n",
    "m.addConstr(x.sum() == 1);"
   ]
  },
  {
   "cell_type": "code",
   "execution_count": 47,
   "metadata": {},
   "outputs": [],
   "source": [
    "# Add portfolio variance constraint\n",
    "sigma_squared = 2.02  #target variance value\n",
    "portfolio_variance_constraint = m.addConstr(portfolio_variance == sigma_squared)"
   ]
  },
  {
   "cell_type": "code",
   "execution_count": 48,
   "metadata": {},
   "outputs": [
    {
     "name": "stdout",
     "output_type": "stream",
     "text": [
      "Gurobi Optimizer version 12.0.0 build v12.0.0rc1 (linux64 - \"Ubuntu 20.04.6 LTS\")\n",
      "\n",
      "CPU model: Intel(R) Xeon(R) Platinum 8370C CPU @ 2.80GHz, instruction set [SSE2|AVX|AVX2|AVX512]\n",
      "Thread count: 1 physical cores, 2 logical processors, using up to 2 threads\n",
      "\n",
      "Optimize a model with 1 rows, 20 columns and 20 nonzeros\n",
      "Model fingerprint: 0x339529d6\n",
      "Model has 210 quadratic objective terms\n",
      "Model has 3 quadratic constraints\n",
      "Coefficient statistics:\n",
      "  Matrix range     [1e+00, 1e+00]\n",
      "  QMatrix range    [2e-05, 6e-03]\n",
      "  Objective range  [0e+00, 0e+00]\n",
      "  QObjective range [3e-05, 1e-02]\n",
      "  Bounds range     [0e+00, 0e+00]\n",
      "  RHS range        [1e+00, 1e+00]\n",
      "  QRHS range       [2e-02, 2e+00]\n",
      "Presolve time: 0.01s\n",
      "\n",
      "Barrier solved model in 0 iterations and 0.01 seconds (0.00 work units)\n",
      "Model is infeasible or unbounded\n"
     ]
    }
   ],
   "source": [
    "m.optimize()"
   ]
  },
  {
   "cell_type": "code",
   "execution_count": 45,
   "metadata": {},
   "outputs": [],
   "source": [
    "if m.status == GRB.OPTIMAL:\n",
    "    print(\"\\nOptimal Portfolio Solution:\")\n",
    "    print(\"-\" * 30)\n",
    "    print(f\"{'Asset':<10}{'Weight':>10}\")\n",
    "    print(\"-\" * 30)\n",
    "    for i in range(n_assets):\n",
    "        print(f\"{'Asset ' + str(i+1):<10}{x[i].X:>10.4f}\")\n",
    "    print(\"-\" * 30)\n",
    "    print(f\"Expected Portfolio Return: {m.ObjVal:.4f}\")\n",
    "    variance = sum(covariance_matrix[i][j] * x[i].X * x[j].X for i in range(n_assets) for j in range(n_assets))\n",
    "    print(f\"Portfolio Variance: {variance:.6f}\")\n",
    "elif m.status == GRB.INFEASIBLE:\n",
    "    print(\"Model is infeasible. Run diagnostics for more details.\")\n"
   ]
  },
  {
   "cell_type": "code",
   "execution_count": 46,
   "metadata": {},
   "outputs": [
    {
     "name": "stdout",
     "output_type": "stream",
     "text": [
      "Set parameter LogToConsole to value 1\n",
      "Set parameter OutputFlag to value 1\n"
     ]
    }
   ],
   "source": [
    "m.Params.LogToConsole = 1  # Display solver progress\n",
    "m.Params.OutputFlag = 1    # Turn solver output ON\n"
   ]
  },
  {
   "cell_type": "code",
   "execution_count": null,
   "metadata": {},
   "outputs": [],
   "source": []
  },
  {
   "cell_type": "code",
   "execution_count": null,
   "metadata": {},
   "outputs": [],
   "source": []
  },
  {
   "cell_type": "code",
   "execution_count": 37,
   "metadata": {},
   "outputs": [
    {
     "data": {
      "text/plain": [
       "AL        <gurobi.Var X[AL]>\n",
       "AGL      <gurobi.Var X[AGL]>\n",
       "AUTO    <gurobi.Var X[AUTO]>\n",
       "NTV      <gurobi.Var X[NTV]>\n",
       "BFI      <gurobi.Var X[BFI]>\n",
       "BIN      <gurobi.Var X[BIN]>\n",
       "BPM      <gurobi.Var X[BPM]>\n",
       "BPVN    <gurobi.Var X[BPVN]>\n",
       "BNL      <gurobi.Var X[BNL]>\n",
       "BPU      <gurobi.Var X[BPU]>\n",
       "BUL      <gurobi.Var X[BUL]>\n",
       "CAP      <gurobi.Var X[CAP]>\n",
       "EDN      <gurobi.Var X[EDN]>\n",
       "ENEL    <gurobi.Var X[ENEL]>\n",
       "ENI      <gurobi.Var X[ENI]>\n",
       "FWB      <gurobi.Var X[FWB]>\n",
       "F          <gurobi.Var X[F]>\n",
       "FNC      <gurobi.Var X[FNC]>\n",
       "G          <gurobi.Var X[G]>\n",
       "ES        <gurobi.Var X[ES]>\n",
       "dtype: object"
      ]
     },
     "execution_count": 37,
     "metadata": {},
     "output_type": "execute_result"
    }
   ],
   "source": [
    "x"
   ]
  },
  {
   "cell_type": "code",
   "execution_count": null,
   "metadata": {},
   "outputs": [],
   "source": []
  },
  {
   "cell_type": "code",
   "execution_count": null,
   "metadata": {},
   "outputs": [],
   "source": []
  },
  {
   "cell_type": "code",
   "execution_count": null,
   "metadata": {},
   "outputs": [],
   "source": []
  },
  {
   "cell_type": "code",
   "execution_count": null,
   "metadata": {},
   "outputs": [],
   "source": []
  },
  {
   "cell_type": "code",
   "execution_count": null,
   "metadata": {},
   "outputs": [],
   "source": []
  }
 ],
 "metadata": {
  "kernelspec": {
   "display_name": "Python 3",
   "language": "python",
   "name": "python3"
  },
  "language_info": {
   "codemirror_mode": {
    "name": "ipython",
    "version": 3
   },
   "file_extension": ".py",
   "mimetype": "text/x-python",
   "name": "python",
   "nbconvert_exporter": "python",
   "pygments_lexer": "ipython3",
   "version": "3.12.1"
  }
 },
 "nbformat": 4,
 "nbformat_minor": 2
}
