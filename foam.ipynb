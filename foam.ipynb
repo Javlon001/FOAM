{
 "cells": [
  {
   "cell_type": "markdown",
   "metadata": {},
   "source": [
    "# Mean-Variance Model"
   ]
  },
  {
   "cell_type": "markdown",
   "metadata": {},
   "source": [
    "## Exercise 2. \n",
    "*  Task 0: Cleaning Data and Importing Libraries: "
   ]
  },
  {
   "cell_type": "code",
   "execution_count": null,
   "metadata": {},
   "outputs": [],
   "source": [
    "#pip install gurobipy\n",
    "#pip install openpyxl"
   ]
  },
  {
   "cell_type": "code",
   "execution_count": null,
   "metadata": {},
   "outputs": [],
   "source": [
    "#import required libraries: \n",
    "import gurobipy as gb\n",
    "import pandas as pd\n",
    "import numpy as np\n",
    "import seaborn as sns\n",
    "import matplotlib.pyplot as plt"
   ]
  },
  {
   "cell_type": "markdown",
   "metadata": {},
   "source": [
    "I used gurobipy library to optimize the portfolio, the other libraries are for data manipulations and plotting the graphs. We first need to make sure we correctly loaded the data."
   ]
  },
  {
   "cell_type": "code",
   "execution_count": null,
   "metadata": {},
   "outputs": [],
   "source": [
    "df=pd.read_excel(\"/workspaces/FOAM/data/data.xlsx\", sheet_name=\"Returns S&P Mib 30 \", index_col=0, parse_dates=True)\n",
    "df.head(2)"
   ]
  },
  {
   "cell_type": "markdown",
   "metadata": {},
   "source": [
    "We can drop the index name, and change the date format appropriately (back to the given format)"
   ]
  },
  {
   "cell_type": "code",
   "execution_count": null,
   "metadata": {},
   "outputs": [],
   "source": [
    "df.index.name=None\n",
    "df.index = df.index.strftime('%b-%Y')\n",
    "df.head(2)"
   ]
  },
  {
   "cell_type": "markdown",
   "metadata": {},
   "source": [
    "Since the stocks are given in the range from A1 to A20, I prepared dictionary to replace them with their respective names. So that we can plot the efficient frontier including the real asset names. \n"
   ]
  },
  {
   "cell_type": "code",
   "execution_count": null,
   "metadata": {},
   "outputs": [],
   "source": [
    "stocks = [\n",
    "    \"AL\", \"AGL\", \"AUTO\", \"NTV\", \"BFI\", \"BIN\", \"BPM\", \"BPVN\", \"BNL\", \"BPU\", \"BUL\", \"CAP\", \n",
    "    \"EDN\", \"ENEL\", \"ENI\", \"FWB\", \"F\", \"FNC\", \"G\", \"ES\"\n",
    "] # we can later use this list to refer to the columns of the dataset. \n",
    "\n",
    "stock_dict = {f\"A{i+1}\": stock for i, stock in enumerate(stocks)}\n",
    "\n",
    "# now we can replace them\n",
    "df = df.rename(columns=stock_dict)\n",
    "df.head(2)"
   ]
  },
  {
   "cell_type": "markdown",
   "metadata": {},
   "source": [
    "---\n",
    "\n",
    "## Exercise 2.1 \n",
    "* Task 1: Compute the expected returns of all assets in the market and the matrix of variances and covariances. \n",
    "* Task 2: Formulate and solve the Markowitz model for finding the maximum possible expected return value for an efficient portfolio (ER_max)\n",
    "* Task 3: Formulate and solve the Markowitz model to find the minimum possible expected return value for an efficient portfolio (ER_min).\n",
    "* Task 4: Fix 5 different values for the portfolio expected return in the range (ER_min, ER_max), denoting them by μ₁, μ₂, μ₃, μ₄, μ₅.\n",
    "\n",
    "---"
   ]
  },
  {
   "cell_type": "markdown",
   "metadata": {},
   "source": [
    "### Task 1: Compute the expected returns of all assets in the market and the matrix of variances and covariances"
   ]
  },
  {
   "cell_type": "markdown",
   "metadata": {},
   "source": [
    "Expected returns are found as follows, since the data frame is already about the returns we can just take the `.mean()` (mean) for an asset for the whole period. "
   ]
  },
  {
   "cell_type": "code",
   "execution_count": null,
   "metadata": {},
   "outputs": [],
   "source": [
    "expected_returns = df[stocks].mean()\n",
    "expected_returns.head(2)"
   ]
  },
  {
   "cell_type": "markdown",
   "metadata": {},
   "source": [
    "Compute variance and covariance matrix with `.cov()` function, where main diagnal is variance and the rest are covariance values.  "
   ]
  },
  {
   "cell_type": "code",
   "execution_count": null,
   "metadata": {},
   "outputs": [],
   "source": [
    "covariance_matrix = df[stocks].cov()\n",
    "covariance_matrix.head(2)"
   ]
  },
  {
   "cell_type": "markdown",
   "metadata": {},
   "source": [
    "------\n",
    "\n",
    "# Model Implementation\n",
    "\n",
    "------"
   ]
  },
  {
   "cell_type": "markdown",
   "metadata": {},
   "source": [
    "### Task 2: Formulate and solve the Markowitz model for finding the maximum possible expected return value for an efficient portfolio ($ER_{max}$)\n",
    "\n",
    "Here, since we want to find $ER_{max}$, we need to set the objective function to `MAXIMIZE` the portfolio return."
   ]
  },
  {
   "cell_type": "code",
   "execution_count": null,
   "metadata": {},
   "outputs": [],
   "source": [
    "# Create model\n",
    "model_one = gb.Model()\n",
    "\n",
    "# Add variables for portfolio weights\n",
    "x = pd.Series(model_one.addVars(stocks, lb=0, name='X'), index=stocks)\n",
    "\n",
    "# Compute portfolio variance (to use as constraint) and return (to use in objective funtion)\n",
    "portfolio_variance = covariance_matrix.dot(x).dot(x)\n",
    "portfolio_return = expected_returns.dot(x)\n",
    "\n",
    "# Add objective function: Maximize portfolio return\n",
    "model_one.setObjective(portfolio_return, sense=gb.GRB.MAXIMIZE)\n",
    "\n",
    "# Add budget constraint: Sum of weights equals 1\n",
    "model_one.addConstr(x.sum() == 1, name=\"budget\")\n",
    "\n",
    "# Add portfolio variance constraint: Variance less than or equal to sigma_squared\n",
    "# Here I relaxed the constraint because if we fix the sigma, the model could not find\n",
    "# the optimal solution and the output was infeasable or unbound. \n",
    "sigma_squared = 2\n",
    "model_one.addConstr(portfolio_variance <= sigma_squared, name=\"variance_constraint\")\n",
    "\n",
    "# Optimize model\n",
    "model_one.optimize()\n",
    "\n",
    "# Display results\n",
    "if model_one.status == gb.GRB.OPTIMAL:\n",
    "    model_one_weights = pd.Series({stock: x[stock].X for stock in stocks})\n",
    "    print(\"Optimal Portfolio Weights:\")\n",
    "    print(model_one_weights)\n",
    "    print(f\"ER_max: {portfolio_return.getValue()}\")\n",
    "    print(f\"Portfolio Variance: {portfolio_variance.getValue()}\")\n",
    "else:\n",
    "    print(\"No feasible solution found.\")"
   ]
  },
  {
   "cell_type": "code",
   "execution_count": null,
   "metadata": {},
   "outputs": [],
   "source": [
    "plt.figure(figsize=(10, 6), dpi=150)\n",
    "model_one_weights.plot(kind=\"bar\", color=\"cyan\", edgecolor=\"skyblue\")\n",
    "plt.title(r\"Portfolio Weights ($ER_{max}$)\", fontsize=20)\n",
    "plt.xlabel(\"Assets\", fontsize=18)\n",
    "plt.ylabel(\"Weights\", fontsize=18)\n",
    "plt.xticks(rotation=45, fontsize=18)\n",
    "plt.grid(axis=\"y\", linestyle=\"--\", alpha=0.7)\n",
    "plt.tight_layout()\n",
    "# plt.savefig(\"/Users/javlon/Documents/GitHub/RedPill/FOAM/Analysis/Portfolio_Weights_for_ER_max\", dpi=300)\n",
    "plt.show()"
   ]
  },
  {
   "cell_type": "markdown",
   "metadata": {},
   "source": [
    "### Task 3: Formulate and solve the Markowitz model to find the minimum possible expected return value for an efficient portfolio (ER_min).\n",
    "\n",
    "But in this task, we are asked to find $ER_{min}$, so we need to set the objective function to `MINIMIZE` the portfolio return."
   ]
  },
  {
   "cell_type": "code",
   "execution_count": null,
   "metadata": {},
   "outputs": [],
   "source": [
    "model_two = gb.Model()\n",
    "\n",
    "x = pd.Series(model_two.addVars(stocks, lb=0, name='X'), index=stocks)\n",
    "\n",
    "portfolio_variance = covariance_matrix.dot(x).dot(x)\n",
    "portfolio_return = expected_returns.dot(x)\n",
    "\n",
    "# everything is the same as above except this part, where maximize is replaced with minimize\n",
    "model_two.setObjective(portfolio_return, sense=gb.GRB.MINIMIZE)\n",
    "\n",
    "model_two.addConstr(x.sum() == 1, name=\"budget\")\n",
    "\n",
    "sigma_squared = 2\n",
    "model_two.addConstr(portfolio_variance <= sigma_squared, name=\"variance_constraint\")\n",
    "\n",
    "model_two.optimize()\n",
    "\n",
    "if model_two.status == gb.GRB.OPTIMAL:\n",
    "    model_two_weights = pd.Series({stock: x[stock].X for stock in stocks})\n",
    "    print(\"Optimal Portfolio Weights:\")\n",
    "    print(model_two_weights)\n",
    "    print(f\"ER_min: {portfolio_return.getValue()}\")\n",
    "    print(f\"Portfolio Variance: {portfolio_variance.getValue()}\")\n",
    "else:\n",
    "    print(\"No feasible solution found.\")"
   ]
  },
  {
   "cell_type": "code",
   "execution_count": null,
   "metadata": {},
   "outputs": [],
   "source": [
    "plt.figure(figsize=(10, 6), dpi=150)\n",
    "model_two_weights.plot(kind=\"bar\", color=\"orangered\", edgecolor=\"red\")\n",
    "plt.title(r\"Portfolio Weights ($ER_{min}$)\", fontsize=20)\n",
    "plt.xlabel(\"Assets\", fontsize=18)\n",
    "plt.ylabel(\"Weights\", fontsize=18)\n",
    "plt.xticks(rotation=45, fontsize=18)\n",
    "plt.grid(axis=\"y\", linestyle=\"--\", alpha=0.7)\n",
    "plt.tight_layout()\n",
    "# plt.savefig(\"/Users/javlon/Documents/GitHub/RedPill/FOAM/Analysis/Portfolio_Weights_for_ER_min\", dpi=300)\n",
    "plt.show()\n"
   ]
  },
  {
   "cell_type": "markdown",
   "metadata": {},
   "source": [
    "### Task 4: Fix 5 different values for the portfolio expected return in the range (ER_min, ER_max), denoting them by μ₁, μ₂, μ₃, μ₄, μ₅.\n",
    "We have already found values for $ER_{min}$ (μ₁) and $ER_{max}$ (μ₅), we now need another 3 values for µ's so that there will be 5 equally spaced portfolio returns. "
   ]
  },
  {
   "cell_type": "code",
   "execution_count": null,
   "metadata": {},
   "outputs": [],
   "source": [
    "ER_min = -0.009408867882700435\n",
    "ER_max = 0.03348577185008574\n",
    "\n",
    "mu_values = np.linspace(ER_min, ER_max, 5)\n",
    "mu1, mu2, mu3, mu4, mu5 = mu_values\n",
    "\n",
    "print(f\"mu1: {mu1:.8f}\")\n",
    "print(f\"mu2: {mu2:.8f}\")\n",
    "print(f\"mu3: {mu3:.8f}\")\n",
    "print(f\"mu4: {mu4:.8f}\")\n",
    "print(f\"mu5: {mu5:.8f}\")"
   ]
  },
  {
   "cell_type": "markdown",
   "metadata": {},
   "source": [
    "## Exercise 2.2\n",
    "* Solve model (MwV) formulated in 1.1 for each possible value $\\mu_1, \\mu_2, \\mu_3, \\mu_4, \\mu_5$. Denote by $P_{μ1}, P_{μ2}, P_{μ3}, P_{μ4}, P_{μ5}$ the optimal portfolios so found.\n",
    "\n",
    "So above, when we find the $ER_{min} and ER_{max}$, we input the portfolio variance as constraint and the portfolio return as objective function, here we switch the places. "
   ]
  },
  {
   "cell_type": "code",
   "execution_count": null,
   "metadata": {},
   "outputs": [],
   "source": [
    "# Define the list of mu values\n",
    "mu_values = [mu1, mu2, mu3, mu4, mu5]\n",
    "\n",
    "# Create a dictionary to store results\n",
    "m3_results = {}\n",
    "\n",
    "# List to store data for plotting the efficient frontier\n",
    "m3_efficient_frontier = []\n",
    "\n",
    "for i, mu in enumerate(mu_values, 1):\n",
    "    # Create a new model\n",
    "    m3 = gb.Model()\n",
    "\n",
    "    # Add variables for portfolio weights\n",
    "    x = pd.Series(m3.addVars(stocks, lb=0, name='X'), index=stocks)\n",
    "\n",
    "    # Compute portfolio variance and return\n",
    "    portfolio_variance = covariance_matrix.dot(x).dot(x)\n",
    "    portfolio_return = expected_returns.dot(x)\n",
    "\n",
    "    # Add objective function: Minimize portfolio variance\n",
    "    m3.setObjective(portfolio_variance, sense=gb.GRB.MINIMIZE)\n",
    "\n",
    "    # Add budget constraint: Sum of weights equals 1\n",
    "    m3.addConstr(x.sum() == 1, name=\"budget\")\n",
    "\n",
    "    # Add portfolio return constraint\n",
    "    m3_trc = m3.addConstr(portfolio_return == mu, name=\"return_constraint\")\n",
    "\n",
    "    # Optimize model\n",
    "    m3.optimize()\n",
    "\n",
    "    # Store results if feasible solution found\n",
    "    if m3.status == gb.GRB.OPTIMAL:\n",
    "        m3_weights = pd.Series({stock: x[stock].X for stock in stocks})\n",
    "        m3_portfolio_variance_value = portfolio_variance.getValue()\n",
    "        \n",
    "        # Store results in a dictionary\n",
    "        m3_results[f\"P_mu_{i}\"] = {\n",
    "            \"mu_value\": mu,\n",
    "            \"m3_weights\": m3_weights,\n",
    "            \"m3_portfolio_variance\": m3_portfolio_variance_value,\n",
    "        }\n",
    "\n",
    "        # Add data to the efficient frontier list\n",
    "        m3_efficient_frontier.append({\n",
    "            \"mu\": mu,\n",
    "            \"m3_variance\": m3_portfolio_variance_value,\n",
    "            \"m3_weights\": m3_weights,\n",
    "        })\n",
    "    else:\n",
    "        m3_results[f\"P_mu_{i}\"] = \"No feasible solution found\"\n",
    "\n",
    "# Display results\n",
    "for key, result in m3_results.items():\n",
    "    if isinstance(result, dict):\n",
    "        print(f\"\\nResults for {key}:\")\n",
    "        print(f\"mu value: {result['mu_value']:.8f}\")\n",
    "        print(f\"{key}:\")\n",
    "        print(result['m3_weights'])\n",
    "        print(f\"Portfolio Variance: {result['m3_portfolio_variance']:.8f}\")\n",
    "    else:\n",
    "        print(f\"\\nResults for {key}: {result}\")"
   ]
  },
  {
   "cell_type": "code",
   "execution_count": null,
   "metadata": {},
   "outputs": [],
   "source": [
    "# Plotting the results\n",
    "for key, result in m3_results.items():\n",
    "    if isinstance(result, dict):\n",
    "        m3_weights = result[\"m3_weights\"]\n",
    "        mu_value = result[\"mu_value\"]\n",
    "\n",
    "        # Create a bar plot for the weights\n",
    "        plt.figure(figsize=(10, 6), dpi=150)\n",
    "        m3_weights.plot(kind=\"bar\", color=\"skyblue\", edgecolor=\"black\")\n",
    "        plt.title(f\"$P_{{\\\\mu_{key[-1]}}}$ ($\\mu$={result['mu_value']:.4f})\", fontsize=20)\n",
    "        plt.xlabel(\"Assets\", fontsize=18)\n",
    "        plt.ylabel(\"Weight\", fontsize=18)\n",
    "        plt.xticks(rotation=45, fontsize=18)\n",
    "        plt.tight_layout()\n",
    "\n",
    "        # Save the plot\n",
    "        # plt.savefig(f\"P_mu{key[-1]}_weights.png\")\n",
    "        plt.show()"
   ]
  },
  {
   "cell_type": "markdown",
   "metadata": {},
   "source": [
    "## Exercise 2.3\n",
    "\n",
    "* For each possible value $\\mu_1, \\mu_2, \\mu_3, \\mu_4, \\mu_5$, solve model (MwV) with the additional constraint formulated in 1.2 by fixing $k=2$. Denote by $PC_{\\mu_1}, PC_{\\mu_2}, PC_{\\mu_3}, PC_{\\mu_4}, PC_{\\mu_5}$ the optimal portfolios so found."
   ]
  },
  {
   "cell_type": "code",
   "execution_count": null,
   "metadata": {},
   "outputs": [],
   "source": [
    "# Define the list of mu values\n",
    "mu_values = [mu1, mu2, mu3, mu4, mu5]\n",
    "\n",
    "# Create a dictionary to store results\n",
    "m4_results = {}\n",
    "\n",
    "# List to store data for plotting the efficient frontier\n",
    "m4_efficient_frontier = []\n",
    "\n",
    "#fix the cardinality constraint\n",
    "k = 2\n",
    "\n",
    "for i, mu in enumerate(mu_values, 1):\n",
    "    # Create a new model\n",
    "    m4 = gb.Model()\n",
    "\n",
    "    # Add variables for portfolio weights\n",
    "    x = pd.Series(m4.addVars(stocks, lb=0, name='X'), index=stocks)\n",
    "    \n",
    "    # Introduce binary variables to indicate if a stock is selected\n",
    "    y = pd.Series(m4.addVars(stocks, vtype=gb.GRB.BINARY, name='Y'), index=stocks)\n",
    "    \n",
    "    # Compute portfolio variance and return\n",
    "    portfolio_variance = covariance_matrix.dot(x).dot(x)\n",
    "    portfolio_return = expected_returns.dot(x)\n",
    "\n",
    "    # Add objective function: Minimize portfolio variance\n",
    "    m4.setObjective(portfolio_variance, sense=gb.GRB.MINIMIZE)\n",
    "\n",
    "    # Add budget constraint: Sum of weights equals 1\n",
    "    m4.addConstr(x.sum() == 1, name=\"budget\")\n",
    "\n",
    "    # Add portfolio return constraint\n",
    "    m4_trc = m4.addConstr(portfolio_return == mu, name=\"return_constraint\")\n",
    "    \n",
    "    # Add cardinality constraint\n",
    "    for stock in stocks:\n",
    "        cardinality_constraint = m4.addConstr(x[stock] <= y[stock], name=f\"selection_{stock}\")\n",
    "    m4.addConstr(y.sum() == k, name=\"cardinality_constraint\")\n",
    "    \n",
    "    # Optimize model\n",
    "    m4.optimize()\n",
    "\n",
    "    # Store results if feasible solution found\n",
    "    if m4.status == gb.GRB.OPTIMAL:\n",
    "        m4_weights = pd.Series({stock: x[stock].X for stock in stocks})\n",
    "        m4_portfolio_variance_value = portfolio_variance.getValue()\n",
    "        \n",
    "        # Store results in a dictionary\n",
    "        m4_results[f\"PC_mu_{i}\"] = {\n",
    "            \"mu_value\": mu,\n",
    "            \"m4_weights\": m4_weights,\n",
    "            \"m4_portfolio_variance\": m4_portfolio_variance_value,\n",
    "        }\n",
    "\n",
    "        # Add data to the efficient frontier list\n",
    "        m4_efficient_frontier.append({\n",
    "            \"mu\": mu,\n",
    "            \"m4_variance\": m4_portfolio_variance_value,\n",
    "            \"m4_weights\": m4_weights,\n",
    "        })\n",
    "    else:\n",
    "        m4_results[f\"PC_mu_{i}\"] = \"No feasible solution found\"\n",
    "\n",
    "# Display results\n",
    "for key, result in m4_results.items():\n",
    "    if isinstance(result, dict):\n",
    "        print(f\"\\nResults for {key}:\")\n",
    "        print(f\"mu value: {result['mu_value']:.8f}\")\n",
    "        print(f\"{key}:\")\n",
    "        print(result['m4_weights'])\n",
    "        print(f\"Portfolio Variance: {result['m4_portfolio_variance']:.8f}\")\n",
    "    else:\n",
    "        print(f\"\\nResults for {key}: {result}\")"
   ]
  },
  {
   "cell_type": "code",
   "execution_count": null,
   "metadata": {},
   "outputs": [],
   "source": [
    "# Plotting the results\n",
    "for key, result in m4_results.items():\n",
    "    if isinstance(result, dict):\n",
    "        m4_weights = result[\"m4_weights\"]\n",
    "        mu_value = result[\"mu_value\"]\n",
    "\n",
    "        # Create a bar plot for the weights\n",
    "        plt.figure(figsize=(10, 6), dpi=150)\n",
    "        m4_weights.plot(kind=\"bar\", color=\"skyblue\", edgecolor=\"black\")\n",
    "        plt.title(f\"$PC_{{\\\\mu_{key[-1]}}}$ ($\\mu$={result['mu_value']:.4f} and k=2)\", fontsize=20)\n",
    "        plt.xlabel(\"Assets\", fontsize=18)\n",
    "        plt.ylabel(\"Weight\", fontsize=18)\n",
    "        plt.xticks(rotation=45, fontsize=18)\n",
    "        plt.tight_layout()\n",
    "\n",
    "        # Save the plot\n",
    "        # plt.savefig(f\"PC_mu{key[-1]}_weights.png\")\n",
    "        plt.show()"
   ]
  },
  {
   "cell_type": "code",
   "execution_count": null,
   "metadata": {},
   "outputs": [],
   "source": [
    "# Extract data for plotting\n",
    "m4_mu_values_plot = [entry[\"mu\"] for entry in m4_efficient_frontier]\n",
    "m4_variances_plot = [entry[\"m4_variance\"] for entry in m4_efficient_frontier]\n",
    "m3_mu_values_plot = [entry[\"mu\"] for entry in m3_efficient_frontier]\n",
    "m3_variances_plot = [entry[\"m3_variance\"] for entry in m3_efficient_frontier]\n",
    "\n",
    "stock_stds = df[stocks].std()\n",
    "stock_returns = df[stocks].mean()\n",
    "\n",
    "\n",
    "plt.figure(figsize=(10, 6), dpi=150)\n",
    "plt.plot(m4_variances_plot, m4_mu_values_plot, marker=\"o\", color='red', label=\"Efficient Frontier ($PC_µ$)\")\n",
    "plt.plot(m3_variances_plot, m3_mu_values_plot, marker=\"o\", color='blue', label=\"Efficient Frontier ($P_µ$)\")\n",
    "# Visualize stocks\n",
    "\n",
    "plt.xlabel(\"Standard Deviation ($\\sigma$)\", fontsize=18)\n",
    "plt.ylabel(\"Expected Return ($\\mu$)\", fontsize=18)\n",
    "plt.title(\"Efficient Frontier ($PC_µ$ and $P_µ$)\", fontsize=20)\n",
    "plt.legend()\n",
    "plt.grid()\n",
    "plt.show()"
   ]
  }
 ],
 "metadata": {
  "kernelspec": {
   "display_name": "Python 3",
   "language": "python",
   "name": "python3"
  },
  "language_info": {
   "codemirror_mode": {
    "name": "ipython",
    "version": 3
   },
   "file_extension": ".py",
   "mimetype": "text/x-python",
   "name": "python",
   "nbconvert_exporter": "python",
   "pygments_lexer": "ipython3",
   "version": "3.12.1"
  }
 },
 "nbformat": 4,
 "nbformat_minor": 2
}
